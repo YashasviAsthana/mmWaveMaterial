{
 "cells": [
  {
   "cell_type": "code",
   "execution_count": 1,
   "metadata": {},
   "outputs": [],
   "source": [
    "import pandas as pd\n",
    "import numpy as np\n",
    "from sklearn import cluster\n",
    "from sklearn import manifold\n",
    "import matplotlib.pyplot as plt\n",
    "import plotly.express as px\n",
    "from mpl_toolkits.mplot3d import Axes3D\n",
    "from sklearn import preprocessing\n",
    "from sklearn import svm\n",
    "from sklearn.metrics import accuracy_score\n",
    "from sklearn.utils import shuffle\n",
    "from sklearn.model_selection import train_test_split\n",
    "import random\n",
    "pd.set_option('display.max_rows', 1000)"
   ]
  },
  {
   "cell_type": "code",
   "execution_count": 49,
   "metadata": {},
   "outputs": [],
   "source": [
    "glass_data = pd.read_csv(\"material_data/Glass Sim Correction.csv\")\n",
    "concrete_data = pd.read_csv(\"material_data/Concrete Sim Correction.csv\")\n",
    "metal_data = pd.read_csv(\"material_data/Metal Sim Correction.csv\")\n",
    "plastic_data = pd.read_csv(\"material_data/Plastic Sim Correction.csv\")\n",
    "wood_data = pd.read_csv(\"material_data/Wood Sim Correction.csv\")"
   ]
  },
  {
   "cell_type": "code",
   "execution_count": 50,
   "metadata": {},
   "outputs": [
    {
     "name": "stdout",
     "output_type": "stream",
     "text": [
      "(3765, 8)\n",
      "(3765, 8)\n"
     ]
    }
   ],
   "source": [
    "print(glass_data.shape)\n",
    "print(plastic_data.shape)"
   ]
  },
  {
   "cell_type": "code",
   "execution_count": 51,
   "metadata": {},
   "outputs": [],
   "source": [
    "glass_data = glass_data.dropna()\n",
    "concrete_data = concrete_data.dropna()\n",
    "metal_data = metal_data.dropna()\n",
    "plastic_data = plastic_data.dropna()\n",
    "wood_data = wood_data.dropna()"
   ]
  },
  {
   "cell_type": "code",
   "execution_count": 52,
   "metadata": {},
   "outputs": [],
   "source": [
    "recv_num = []\n",
    "#labels = ['glass','concrete','metal','plastic','wood']\n",
    "label = np.array([0]*glass_data.shape[0])\n",
    "for i in range(0,glass_data.shape[0],250):\n",
    "    recv_num.extend([int(i/250+1)]*250)"
   ]
  },
  {
   "cell_type": "code",
   "execution_count": 53,
   "metadata": {},
   "outputs": [],
   "source": [
    "glass_data.insert(0, 'Label', label) # label = 0\n",
    "glass_data.insert(1, 'Receiver', recv_num)\n",
    "concrete_data.insert(0, 'Label', label+1) # label = 1\n",
    "concrete_data.insert(1, 'Receiver', recv_num)\n",
    "metal_data.insert(0, 'Label', label+2) # label = 2\n",
    "metal_data.insert(1, 'Receiver', recv_num)\n",
    "plastic_data.insert(0, 'Label', label+3) # label = 3\n",
    "plastic_data.insert(1, 'Receiver', recv_num)\n",
    "wood_data.insert(0, 'Label', label+4) # label = 4\n",
    "wood_data.insert(1, 'Receiver', recv_num)"
   ]
  },
  {
   "cell_type": "code",
   "execution_count": 54,
   "metadata": {},
   "outputs": [
    {
     "data": {
      "text/html": [
       "<div>\n",
       "<style scoped>\n",
       "    .dataframe tbody tr th:only-of-type {\n",
       "        vertical-align: middle;\n",
       "    }\n",
       "\n",
       "    .dataframe tbody tr th {\n",
       "        vertical-align: top;\n",
       "    }\n",
       "\n",
       "    .dataframe thead th {\n",
       "        text-align: right;\n",
       "    }\n",
       "</style>\n",
       "<table border=\"1\" class=\"dataframe\">\n",
       "  <thead>\n",
       "    <tr style=\"text-align: right;\">\n",
       "      <th></th>\n",
       "      <th>Label</th>\n",
       "      <th>Receiver</th>\n",
       "      <th>Path Number</th>\n",
       "      <th>Phase Value (deg)</th>\n",
       "      <th>Mean Time of Arrival (sec)</th>\n",
       "      <th>Received Power (dBm)</th>\n",
       "      <th>Arrival phi (deg)</th>\n",
       "      <th>Arrival Theta (deg)</th>\n",
       "      <th>Departure phi (deg)</th>\n",
       "      <th>Departure Theta (deg)</th>\n",
       "    </tr>\n",
       "  </thead>\n",
       "  <tbody>\n",
       "    <tr>\n",
       "      <th>1</th>\n",
       "      <td>0</td>\n",
       "      <td>1</td>\n",
       "      <td>1</td>\n",
       "      <td>167.793000</td>\n",
       "      <td>6.673440e-09</td>\n",
       "      <td>-60.7748</td>\n",
       "      <td>-1.800000e+02</td>\n",
       "      <td>180.0000</td>\n",
       "      <td>0.0000</td>\n",
       "      <td>180.0000</td>\n",
       "    </tr>\n",
       "    <tr>\n",
       "      <th>2</th>\n",
       "      <td>0</td>\n",
       "      <td>1</td>\n",
       "      <td>2</td>\n",
       "      <td>137.038000</td>\n",
       "      <td>6.673440e-08</td>\n",
       "      <td>-63.9429</td>\n",
       "      <td>-1.015600e-12</td>\n",
       "      <td>90.0000</td>\n",
       "      <td>-180.0000</td>\n",
       "      <td>90.0000</td>\n",
       "    </tr>\n",
       "    <tr>\n",
       "      <th>3</th>\n",
       "      <td>0</td>\n",
       "      <td>1</td>\n",
       "      <td>3</td>\n",
       "      <td>-147.860000</td>\n",
       "      <td>1.334690e-08</td>\n",
       "      <td>-66.8587</td>\n",
       "      <td>-1.800000e+02</td>\n",
       "      <td>0.0000</td>\n",
       "      <td>0.0000</td>\n",
       "      <td>0.0000</td>\n",
       "    </tr>\n",
       "    <tr>\n",
       "      <th>4</th>\n",
       "      <td>0</td>\n",
       "      <td>1</td>\n",
       "      <td>4</td>\n",
       "      <td>-163.935000</td>\n",
       "      <td>6.706720e-08</td>\n",
       "      <td>-67.2093</td>\n",
       "      <td>-1.015600e-12</td>\n",
       "      <td>95.7106</td>\n",
       "      <td>-180.0000</td>\n",
       "      <td>95.7106</td>\n",
       "    </tr>\n",
       "    <tr>\n",
       "      <th>5</th>\n",
       "      <td>0</td>\n",
       "      <td>1</td>\n",
       "      <td>5</td>\n",
       "      <td>-17.418600</td>\n",
       "      <td>6.708400e-08</td>\n",
       "      <td>-69.0276</td>\n",
       "      <td>5.852180e+00</td>\n",
       "      <td>90.0000</td>\n",
       "      <td>174.1480</td>\n",
       "      <td>90.0000</td>\n",
       "    </tr>\n",
       "    <tr>\n",
       "      <th>6</th>\n",
       "      <td>0</td>\n",
       "      <td>1</td>\n",
       "      <td>6</td>\n",
       "      <td>-0.994874</td>\n",
       "      <td>6.854330e-09</td>\n",
       "      <td>-70.0943</td>\n",
       "      <td>8.629960e+01</td>\n",
       "      <td>90.0000</td>\n",
       "      <td>86.2996</td>\n",
       "      <td>90.0000</td>\n",
       "    </tr>\n",
       "    <tr>\n",
       "      <th>7</th>\n",
       "      <td>0</td>\n",
       "      <td>1</td>\n",
       "      <td>7</td>\n",
       "      <td>171.016000</td>\n",
       "      <td>4.665700e-08</td>\n",
       "      <td>-70.8370</td>\n",
       "      <td>-9.000000e+01</td>\n",
       "      <td>90.0000</td>\n",
       "      <td>-90.0000</td>\n",
       "      <td>90.0000</td>\n",
       "    </tr>\n",
       "    <tr>\n",
       "      <th>8</th>\n",
       "      <td>0</td>\n",
       "      <td>1</td>\n",
       "      <td>8</td>\n",
       "      <td>-100.859000</td>\n",
       "      <td>6.967280e-08</td>\n",
       "      <td>-71.1223</td>\n",
       "      <td>-1.015230e-12</td>\n",
       "      <td>106.6990</td>\n",
       "      <td>-180.0000</td>\n",
       "      <td>73.3008</td>\n",
       "    </tr>\n",
       "    <tr>\n",
       "      <th>9</th>\n",
       "      <td>0</td>\n",
       "      <td>1</td>\n",
       "      <td>9</td>\n",
       "      <td>5.169440</td>\n",
       "      <td>1.201220e-07</td>\n",
       "      <td>-72.8922</td>\n",
       "      <td>8.751430e-12</td>\n",
       "      <td>90.0000</td>\n",
       "      <td>180.0000</td>\n",
       "      <td>90.0000</td>\n",
       "    </tr>\n",
       "    <tr>\n",
       "      <th>10</th>\n",
       "      <td>0</td>\n",
       "      <td>1</td>\n",
       "      <td>10</td>\n",
       "      <td>109.542000</td>\n",
       "      <td>1.203070e-07</td>\n",
       "      <td>-73.8282</td>\n",
       "      <td>8.751430e-12</td>\n",
       "      <td>93.1798</td>\n",
       "      <td>180.0000</td>\n",
       "      <td>93.1798</td>\n",
       "    </tr>\n",
       "  </tbody>\n",
       "</table>\n",
       "</div>"
      ],
      "text/plain": [
       "    Label  Receiver  Path Number  Phase Value (deg)  \\\n",
       "1       0         1            1         167.793000   \n",
       "2       0         1            2         137.038000   \n",
       "3       0         1            3        -147.860000   \n",
       "4       0         1            4        -163.935000   \n",
       "5       0         1            5         -17.418600   \n",
       "6       0         1            6          -0.994874   \n",
       "7       0         1            7         171.016000   \n",
       "8       0         1            8        -100.859000   \n",
       "9       0         1            9           5.169440   \n",
       "10      0         1           10         109.542000   \n",
       "\n",
       "    Mean Time of Arrival (sec)  Received Power (dBm)  Arrival phi (deg)  \\\n",
       "1                 6.673440e-09              -60.7748      -1.800000e+02   \n",
       "2                 6.673440e-08              -63.9429      -1.015600e-12   \n",
       "3                 1.334690e-08              -66.8587      -1.800000e+02   \n",
       "4                 6.706720e-08              -67.2093      -1.015600e-12   \n",
       "5                 6.708400e-08              -69.0276       5.852180e+00   \n",
       "6                 6.854330e-09              -70.0943       8.629960e+01   \n",
       "7                 4.665700e-08              -70.8370      -9.000000e+01   \n",
       "8                 6.967280e-08              -71.1223      -1.015230e-12   \n",
       "9                 1.201220e-07              -72.8922       8.751430e-12   \n",
       "10                1.203070e-07              -73.8282       8.751430e-12   \n",
       "\n",
       "    Arrival Theta (deg)  Departure phi (deg)  Departure Theta (deg)  \n",
       "1              180.0000               0.0000               180.0000  \n",
       "2               90.0000            -180.0000                90.0000  \n",
       "3                0.0000               0.0000                 0.0000  \n",
       "4               95.7106            -180.0000                95.7106  \n",
       "5               90.0000             174.1480                90.0000  \n",
       "6               90.0000              86.2996                90.0000  \n",
       "7               90.0000             -90.0000                90.0000  \n",
       "8              106.6990            -180.0000                73.3008  \n",
       "9               90.0000             180.0000                90.0000  \n",
       "10              93.1798             180.0000                93.1798  "
      ]
     },
     "execution_count": 54,
     "metadata": {},
     "output_type": "execute_result"
    }
   ],
   "source": [
    "# combining all the dataframes\n",
    "data = pd.concat([glass_data,concrete_data,metal_data,plastic_data,wood_data])\n",
    "data.head(10)"
   ]
  },
  {
   "cell_type": "code",
   "execution_count": 55,
   "metadata": {},
   "outputs": [],
   "source": [
    "path_length = []\n",
    "c = 299792458 #speed of light\n",
    "data_iter = data.iterrows()\n",
    "for i in range(data.shape[0]):\n",
    "    row = next(data_iter)\n",
    "    length = row[1]['Mean Time of Arrival (sec)']*c\n",
    "    path_length.append(length)\n",
    "data.insert(3, 'Path Length (m)', path_length)"
   ]
  },
  {
   "cell_type": "code",
   "execution_count": 56,
   "metadata": {},
   "outputs": [
    {
     "data": {
      "text/plain": [
       "(49, 11)"
      ]
     },
     "execution_count": 56,
     "metadata": {},
     "output_type": "execute_result"
    }
   ],
   "source": [
    "#filtering out the rows with 90 arrival and departure theta\n",
    "trimmed_data = data[(data['Departure Theta (deg)']==90) & (data['Departure phi (deg)']==90)\n",
    "                         & (data['Arrival Theta (deg)']==90) & (data['Arrival phi (deg)']==90) & (data['Path Length (m)']<15)\n",
    "                    & ((data['Receiver']==2) | (data['Receiver']==3) | (data['Receiver']==4) | (data['Receiver']==5) | (data['Receiver']==8)\n",
    "                      | (data['Receiver']==9) | (data['Receiver']==10) | (data['Receiver']==13) | (data['Receiver']==14) | (data['Receiver']==15))\n",
    "trimmed_data.shape"
   ]
  },
  {
   "cell_type": "code",
   "execution_count": 151,
   "metadata": {},
   "outputs": [],
   "source": [
    "trimmed_data = trimmed_data.reset_index(drop=True)\n",
    "test_data = pd.DataFrame(columns=trimmed_data.columns)\n",
    "idx = []\n",
    "for i in range(0,len(trimmed_data),4):\n",
    "    #rand = random.randint(0, 3)\n",
    "    #random_idx.append(rand)\n",
    "    #train_data = trimmed_data.drop(rand+i)\n",
    "    train_data = trimmed_data.drop(i)\n",
    "    idx.append(i)\n",
    "    #train_data = trimmed_data.drop(i+1)\n",
    "train_data = train_data.reset_index(drop=True)\n",
    "train_data = train_data.iloc[:,[0,1,3,5,6]]\n",
    "test_data = trimmed_data.iloc[idx,[0,1,3,5,6]] "
   ]
  },
  {
   "cell_type": "code",
   "execution_count": 165,
   "metadata": {},
   "outputs": [
    {
     "data": {
      "image/png": "[encoded data removed]",
      "text/plain": [
       "<Figure size 720x720 with 1 Axes>"
      ]
     },
     "metadata": {
      "needs_background": "light"
     },
     "output_type": "display_data"
    }
   ],
   "source": [
    "from sklearn.decomposition import PCA\n",
    "#df = data[(data['Label']==0)]\n",
    "#tsne = manifold.TSNE(n_components=2,n_iter=5000,perplexity = 60)\n",
    "#trans_tsne = tsne.fit_transform(train_data.iloc[:,1:])\n",
    "#transforming the featurs using the train data\n",
    "pca = PCA(n_components=2).fit(train_data.iloc[:,1:]) # generating a tranformation matrix based on the training data only\n",
    "train_labels = train_data.iloc[:,0]\n",
    "trans_pca = pca.transform(trimmed_data.iloc[:,[1,3,5,6]]) # transforming all the data including test data (just to plot)\n",
    "fig = plt.figure(figsize=(10, 10))\n",
    "ax = fig.add_subplot(111)\n",
    "colors = ['tab:blue', 'tab:orange', 'tab:green', 'tab:pink','tab:brown']\n",
    "classes = ['Glass','Concrete','Metal','Plastic','Wood']\n",
    "labels = np.array(trimmed_data['Label'])\n",
    "scatter = []\n",
    "for i in range(len(names)):\n",
    "    a = trans_pca[trimmed_data['Label'] == i]\n",
    "    scatter.append(ax.scatter(a[:,0],a[:,1], color = colors[i], label = classes[i]))\n",
    "\n",
    "ax.legend(loc='upper right',fontsize=15)\n",
    "ax.set_xlabel('PCA Feature 1')\n",
    "ax.set_ylabel('PCA Feature 2')\n",
    "plt.show()"
   ]
  },
  {
   "cell_type": "code",
   "execution_count": 111,
   "metadata": {},
   "outputs": [
    {
     "data": {
      "image/png": "[encoded data removed]",
      "text/plain": [
       "<Figure size 360x360 with 1 Axes>"
      ]
     },
     "metadata": {
      "needs_background": "light"
     },
     "output_type": "display_data"
    }
   ],
   "source": [
    "fig = plt.figure(figsize=(5, 5))\n",
    "ax = fig.add_subplot(111)\n",
    "ax.barh([1,2],pca.explained_variance_,tick_label = ['PCA Feature 1','PCA Feature 2'])\n",
    "ax.set_xlabel('Feature Importance')\n",
    "plt.show()"
   ]
  },
  {
   "cell_type": "code",
   "execution_count": 162,
   "metadata": {},
   "outputs": [
    {
     "data": {
      "text/plain": [
       "1.0"
      ]
     },
     "execution_count": 162,
     "metadata": {},
     "output_type": "execute_result"
    }
   ],
   "source": [
    "clf = svm.SVC(decision_function_shape='ovr')\n",
    "clf.fit(pca.transform(train_data.iloc[:,1:]), train_labels) #training classifier\n",
    "\n",
    "test_pred = clf.predict(pca.transform(test_data.iloc[:,1:]))\n",
    "test_labels = test_data.iloc[:,0]\n",
    "accuracy_score(test_labels, test_pred)"
   ]
  },
  {
   "cell_type": "code",
   "execution_count": 164,
   "metadata": {},
   "outputs": [
    {
     "data": {
      "image/png": "[encoded data removed]",
      "text/plain": [
       "<Figure size 432x288 with 2 Axes>"
      ]
     },
     "metadata": {
      "needs_background": "light"
     },
     "output_type": "display_data"
    }
   ],
   "source": [
    "from sklearn.metrics import plot_confusion_matrix\n",
    "matrix = plot_confusion_matrix(clf, pca.transform(test_data.iloc[:,1:]), test_labels,cmap=plt.cm.Blues,normalize='true')\n",
    "plt.title('Confusion matrix')\n",
    "plt.show(matrix)\n",
    "plt.show()"
   ]
  },
  {
   "cell_type": "code",
   "execution_count": null,
   "metadata": {},
   "outputs": [],
   "source": []
  }
 ],
 "metadata": {
  "kernelspec": {
   "display_name": "Python 3",
   "language": "python",
   "name": "python3"
  },
  "language_info": {
   "codemirror_mode": {
    "name": "ipython",
    "version": 3
   },
   "file_extension": ".py",
   "mimetype": "text/x-python",
   "name": "python",
   "nbconvert_exporter": "python",
   "pygments_lexer": "ipython3",
   "version": "3.7.7"
  }
 },
 "nbformat": 4,
 "nbformat_minor": 4
}
